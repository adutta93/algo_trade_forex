{
 "cells": [
  {
   "cell_type": "code",
   "execution_count": 5,
   "metadata": {},
   "outputs": [],
   "source": [
    "import requests\n",
    "import pandas as pd\n",
    "import json\n",
    "from dateutil import parser"
   ]
  },
  {
   "cell_type": "code",
   "execution_count": 6,
   "metadata": {},
   "outputs": [],
   "source": [
    "api_key = \"84b3e57f239ee216d8098e4743d65d98-cd7f58d6713874c1d54c0cb780e860ba\"\n",
    "account_id = \"101-001-26920175-001\"\n",
    "oanda_url_practice = \"https://api-fxpractice.oanda.com/v3\""
   ]
  },
  {
   "cell_type": "code",
   "execution_count": 7,
   "metadata": {},
   "outputs": [],
   "source": [
    "session = requests.Session()\n",
    "session.headers.update({\n",
    "    \"Authorization\" : f\"Bearer {api_key}\",\n",
    "    \"Content-Type\" : \"application/json\"\n",
    "})"
   ]
  },
  {
   "cell_type": "code",
   "execution_count": 8,
   "metadata": {},
   "outputs": [],
   "source": [
    "params = dict(\n",
    "    count = 10,\n",
    "    granularity = \"H1\",\n",
    "    price = \"MBA\"\n",
    ")"
   ]
  },
  {
   "cell_type": "code",
   "execution_count": 9,
   "metadata": {},
   "outputs": [],
   "source": [
    "url = f\"{oanda_url_practice}/accounts/{account_id}/instruments\""
   ]
  },
  {
   "cell_type": "code",
   "execution_count": 10,
   "metadata": {},
   "outputs": [],
   "source": [
    "response = session.get(url, params = None, headers = None, data = None)"
   ]
  },
  {
   "cell_type": "code",
   "execution_count": 11,
   "metadata": {},
   "outputs": [],
   "source": [
    "data = response.json()"
   ]
  },
  {
   "cell_type": "code",
   "execution_count": 12,
   "metadata": {},
   "outputs": [],
   "source": [
    "instrument_list = data['instruments']"
   ]
  },
  {
   "cell_type": "code",
   "execution_count": 13,
   "metadata": {},
   "outputs": [
    {
     "data": {
      "text/plain": [
       "68"
      ]
     },
     "execution_count": 13,
     "metadata": {},
     "output_type": "execute_result"
    }
   ],
   "source": [
    "len(instrument_list)"
   ]
  },
  {
   "cell_type": "code",
   "execution_count": 14,
   "metadata": {},
   "outputs": [
    {
     "data": {
      "text/plain": [
       "dict_keys(['name', 'type', 'displayName', 'pipLocation', 'displayPrecision', 'tradeUnitsPrecision', 'minimumTradeSize', 'maximumTrailingStopDistance', 'minimumTrailingStopDistance', 'maximumPositionSize', 'maximumOrderUnits', 'marginRate', 'guaranteedStopLossOrderMode', 'tags', 'financing'])"
      ]
     },
     "execution_count": 14,
     "metadata": {},
     "output_type": "execute_result"
    }
   ],
   "source": [
    "instrument_list[0].keys()\n"
   ]
  },
  {
   "cell_type": "code",
   "execution_count": 15,
   "metadata": {},
   "outputs": [],
   "source": [
    "instrument_keys = ['name', 'type', 'displayName', 'pipLocation', 'displayPrecision', 'tradeUnitsPrecision', 'marginRate']"
   ]
  },
  {
   "cell_type": "code",
   "execution_count": 16,
   "metadata": {},
   "outputs": [],
   "source": [
    "instrument_dict = {}\n",
    "for item in instrument_list:\n",
    "    key = item[\"name\"]\n",
    "    instrument_dict[key] = {k : item[k] for k in instrument_keys }"
   ]
  },
  {
   "cell_type": "code",
   "execution_count": 17,
   "metadata": {},
   "outputs": [],
   "source": [
    "# Save/write the data in intruments.json file\n",
    "\n",
    "with open(\"../data/instruments.json\", \"w\") as f:\n",
    "    f.write(json.dumps(instrument_dict, indent=2))"
   ]
  },
  {
   "cell_type": "code",
   "execution_count": 47,
   "metadata": {},
   "outputs": [],
   "source": [
    "# Function to fetch candle data\n",
    "\n",
    "def fetch_candles(pair_name, count=10, granularity=\"H1\"):\n",
    "    url = f\"{oanda_url_practice}/instruments/{pair_name}/candles\"\n",
    "    params = dict(\n",
    "        count = count,\n",
    "        granularity = granularity,\n",
    "        price = \"MBA\"\n",
    "    )\n",
    "    response = session.get(url, params = params, headers = None, data = None)\n",
    "    data = response.json()\n",
    "\n",
    "    if response.status_code == 200:\n",
    "        if 'candles' not in data:\n",
    "            data = []\n",
    "        else:\n",
    "            data = data['candles']\n",
    "    return response.status_code, data\n",
    "\n",
    "\n",
    "def get_candle_df(data):\n",
    "    if len(data) == 0:\n",
    "        return pd.DataFrame()\n",
    "    else:\n",
    "        #  extracting some final data\n",
    "        # !TODO: Remove the nested for loop\n",
    "        prices = ['mid', 'bid', 'ask']\n",
    "        ohlc = ['o', 'h', 'l', 'c']\n",
    "\n",
    "        final_data = []\n",
    "        for candle in data:\n",
    "            if candle['complete'] == False:\n",
    "                continue\n",
    "            else:\n",
    "                new_dict = {}\n",
    "                new_dict['time'] = parser.parse(candle['time'])\n",
    "                new_dict['volume'] = candle['volume']\n",
    "                for p in prices:\n",
    "                    for x in ohlc:\n",
    "                        new_dict[f\"{p}_{x}\"] = candle[p][x]\n",
    "                        # print(f\"{p}_{x}\")\n",
    "                final_data.append(new_dict)\n",
    "        return pd.DataFrame.from_dict(final_data)\n",
    "    \n",
    "def create_data_file(pair_name, count=10, granularity=\"H1\"):\n",
    "        code, data = fetch_candles(\"EUR_USD\", count, granularity)\n",
    "        if code != 200:\n",
    "            print(\"Failed\", pair_name, data)\n",
    "        if len(data) == 0:\n",
    "            print(\"No candle\", pair_name)\n",
    "        candle_df = get_candle_df(data)\n",
    "        candle_df.to_pickle(f\"../data/{pair_name}_{granularity}.pkl\")\n",
    "        print(f\"{pair_name} {granularity} {candle_df.shape[0]} candles, {candle_df.time.min()} {candle_df.time.max()}\")"
   ]
  },
  {
   "cell_type": "code",
   "execution_count": null,
   "metadata": {},
   "outputs": [],
   "source": [
    "tradable_curr = [\"EUR\", \"USD\", \"GBP\", \"JPY\", \"CHF\", \"NZD\", \"CAD\", \"AUD\"]\n",
    "for pair_1 in tradable_curr:\n",
    "    for pair_2 in tradable_curr:\n",
    "        final_pair = f\"{pair_1}_{pair_2}\"\n",
    "        if final_pair in instrument_dict:\n",
    "            for granu in [\"H1\", \"H4\"]:\n",
    "                create_data_file(final_pair, count=4001, granularity=granu)"
   ]
  },
  {
   "cell_type": "code",
   "execution_count": null,
   "metadata": {},
   "outputs": [],
   "source": [
    "\n",
    "\n",
    "\n",
    "\n"
   ]
  },
  {
   "cell_type": "code",
   "execution_count": null,
   "metadata": {},
   "outputs": [],
   "source": []
  },
  {
   "cell_type": "code",
   "execution_count": null,
   "metadata": {},
   "outputs": [],
   "source": []
  },
  {
   "cell_type": "code",
   "execution_count": null,
   "metadata": {},
   "outputs": [],
   "source": []
  }
 ],
 "metadata": {
  "kernelspec": {
   "display_name": "venv",
   "language": "python",
   "name": "python3"
  },
  "language_info": {
   "codemirror_mode": {
    "name": "ipython",
    "version": 3
   },
   "file_extension": ".py",
   "mimetype": "text/x-python",
   "name": "python",
   "nbconvert_exporter": "python",
   "pygments_lexer": "ipython3",
   "version": "3.10.4"
  },
  "orig_nbformat": 4
 },
 "nbformat": 4,
 "nbformat_minor": 2
}
