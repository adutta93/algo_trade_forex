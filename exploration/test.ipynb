{
 "cells": [
  {
   "cell_type": "code",
   "execution_count": 14,
   "metadata": {},
   "outputs": [],
   "source": [
    "import pandas as pd\n",
    "from plotter import CandlePlot"
   ]
  },
  {
   "cell_type": "code",
   "execution_count": 19,
   "metadata": {},
   "outputs": [],
   "source": [
    "pair = \"EUR_USD\"\n",
    "granularity = \"H4\"\n",
    "df = pd.read_pickle(f\"../data/{pair}_{granularity}.pkl\")\n",
    "df_plot = df.iloc[:100]"
   ]
  },
  {
   "cell_type": "code",
   "execution_count": 20,
   "metadata": {},
   "outputs": [
    {
     "data": {
      "text/plain": [
       "(100, 14)"
      ]
     },
     "execution_count": 20,
     "metadata": {},
     "output_type": "execute_result"
    }
   ],
   "source": [
    "df_plot.shape"
   ]
  },
  {
   "cell_type": "code",
   "execution_count": 21,
   "metadata": {},
   "outputs": [
    {
     "data": {
      "application/vnd.plotly.v1+json": {
       "config": {
        "plotlyServerURL": "https://plot.ly"
       },
       "data": [
        {
         "close": [
          "1.20842",
          "1.21014",
          "1.20546",
          "1.20704",
          "1.20636",
          "1.20620",
          "1.20564",
          "1.20325",
          "1.20359",
          "1.19939",
          "1.19723",
          "1.19608",
          "1.19596",
          "1.19277",
          "1.19180",
          "1.19120",
          "1.19130",
          "1.19273",
          "1.19124",
          "1.18722",
          "1.18712",
          "1.18566",
          "1.18460",
          "1.18384",
          "1.18540",
          "1.19056",
          "1.18918",
          "1.18864",
          "1.19016",
          "1.18852",
          "1.18751",
          "1.18998",
          "1.19107",
          "1.19083",
          "1.19286",
          "1.19218",
          "1.19272",
          "1.19637",
          "1.19572",
          "1.19722",
          "1.19856",
          "1.19843",
          "1.19635",
          "1.19178",
          "1.19265",
          "1.19480",
          "1.19525",
          "1.19514",
          "1.19433",
          "1.19368",
          "1.19250",
          "1.19231",
          "1.19302",
          "1.19229",
          "1.19378",
          "1.19268",
          "1.19230",
          "1.18932",
          "1.19027",
          "1.19015",
          "1.19036",
          "1.18981",
          "1.19118",
          "1.19016",
          "1.19794",
          "1.19855",
          "1.19614",
          "1.19474",
          "1.19282",
          "1.19204",
          "1.19160",
          "1.19074",
          "1.19189",
          "1.19230",
          "1.18998",
          "1.19076",
          "1.19042",
          "1.18852",
          "1.18936",
          "1.19022",
          "1.19232",
          "1.19392",
          "1.19326",
          "1.19336",
          "1.19234",
          "1.18988",
          "1.18892",
          "1.18635",
          "1.18493",
          "1.18428",
          "1.18465",
          "1.18268",
          "1.18338",
          "1.18236",
          "1.18128",
          "1.18177",
          "1.18207",
          "1.18051",
          "1.17974",
          "1.17628"
         ],
         "decreasing": {
          "fillcolor": "#CC2E3C",
          "line": {
           "color": "#FF3A4C"
          }
         },
         "high": [
          "1.20920",
          "1.21134",
          "1.21032",
          "1.20806",
          "1.20786",
          "1.20670",
          "1.20632",
          "1.20626",
          "1.20492",
          "1.20537",
          "1.19999",
          "1.19776",
          "1.19649",
          "1.19610",
          "1.19433",
          "1.19463",
          "1.19230",
          "1.19324",
          "1.19284",
          "1.19148",
          "1.18808",
          "1.18873",
          "1.18650",
          "1.18528",
          "1.18672",
          "1.19092",
          "1.19158",
          "1.19091",
          "1.19050",
          "1.19029",
          "1.18856",
          "1.19016",
          "1.19130",
          "1.19250",
          "1.19299",
          "1.19294",
          "1.19348",
          "1.19690",
          "1.19737",
          "1.19791",
          "1.19900",
          "1.19886",
          "1.19846",
          "1.19636",
          "1.19403",
          "1.19568",
          "1.19614",
          "1.19563",
          "1.19674",
          "1.19438",
          "1.19403",
          "1.19374",
          "1.19337",
          "1.19362",
          "1.19388",
          "1.19389",
          "1.19520",
          "1.19274",
          "1.19102",
          "1.19062",
          "1.19042",
          "1.19082",
          "1.19168",
          "1.19152",
          "1.19856",
          "1.19877",
          "1.19866",
          "1.19890",
          "1.19504",
          "1.19388",
          "1.19318",
          "1.19206",
          "1.19200",
          "1.19371",
          "1.19234",
          "1.19120",
          "1.19126",
          "1.18927",
          "1.18991",
          "1.19062",
          "1.19315",
          "1.19396",
          "1.19470",
          "1.19409",
          "1.19372",
          "1.19319",
          "1.19002",
          "1.18915",
          "1.18662",
          "1.18534",
          "1.18511",
          "1.18474",
          "1.18450",
          "1.18391",
          "1.18306",
          "1.18177",
          "1.18278",
          "1.18262",
          "1.18182",
          "1.18156"
         ],
         "increasing": {
          "fillcolor": "#24A06B",
          "line": {
           "color": "#2EC886"
          }
         },
         "line": {
          "width": 1
         },
         "low": [
          "1.20827",
          "1.20742",
          "1.20434",
          "1.20428",
          "1.20614",
          "1.20436",
          "1.20438",
          "1.20266",
          "1.20276",
          "1.19902",
          "1.19616",
          "1.19531",
          "1.19518",
          "1.19141",
          "1.18934",
          "1.19054",
          "1.19053",
          "1.19176",
          "1.18987",
          "1.18652",
          "1.18568",
          "1.18458",
          "1.18442",
          "1.18356",
          "1.18381",
          "1.18513",
          "1.18824",
          "1.18814",
          "1.18848",
          "1.18841",
          "1.18705",
          "1.18690",
          "1.18818",
          "1.18860",
          "1.19016",
          "1.19158",
          "1.19220",
          "1.19191",
          "1.19428",
          "1.19280",
          "1.19714",
          "1.19802",
          "1.19598",
          "1.19111",
          "1.19099",
          "1.19114",
          "1.19446",
          "1.19426",
          "1.19426",
          "1.19179",
          "1.19192",
          "1.19112",
          "1.19194",
          "1.19224",
          "1.19222",
          "1.19136",
          "1.19204",
          "1.18822",
          "1.18926",
          "1.19000",
          "1.18927",
          "1.18862",
          "1.18913",
          "1.18970",
          "1.18977",
          "1.19774",
          "1.19554",
          "1.19350",
          "1.19218",
          "1.19086",
          "1.19062",
          "1.19044",
          "1.19020",
          "1.19110",
          "1.18906",
          "1.18739",
          "1.19020",
          "1.18676",
          "1.18752",
          "1.18746",
          "1.18933",
          "1.19108",
          "1.19324",
          "1.19286",
          "1.19230",
          "1.18860",
          "1.18774",
          "1.18583",
          "1.18422",
          "1.18362",
          "1.18398",
          "1.18124",
          "1.18189",
          "1.18144",
          "1.18096",
          "1.18090",
          "1.18042",
          "1.18014",
          "1.17912",
          "1.17626"
         ],
         "opacity": 1,
         "open": [
          "1.20916",
          "1.20841",
          "1.21012",
          "1.20548",
          "1.20702",
          "1.20648",
          "1.20618",
          "1.20564",
          "1.20327",
          "1.20358",
          "1.19938",
          "1.19698",
          "1.19607",
          "1.19595",
          "1.19275",
          "1.19182",
          "1.19120",
          "1.19188",
          "1.19270",
          "1.19123",
          "1.18724",
          "1.18712",
          "1.18568",
          "1.18488",
          "1.18384",
          "1.18541",
          "1.19054",
          "1.18920",
          "1.18862",
          "1.18987",
          "1.18853",
          "1.18753",
          "1.19000",
          "1.19108",
          "1.19084",
          "1.19280",
          "1.19220",
          "1.19275",
          "1.19638",
          "1.19571",
          "1.19721",
          "1.19818",
          "1.19846",
          "1.19636",
          "1.19180",
          "1.19266",
          "1.19480",
          "1.19516",
          "1.19512",
          "1.19436",
          "1.19367",
          "1.19251",
          "1.19230",
          "1.19262",
          "1.19232",
          "1.19376",
          "1.19267",
          "1.19228",
          "1.18931",
          "1.19009",
          "1.19014",
          "1.19034",
          "1.18982",
          "1.19116",
          "1.19018",
          "1.19781",
          "1.19854",
          "1.19612",
          "1.19472",
          "1.19280",
          "1.19205",
          "1.19124",
          "1.19075",
          "1.19187",
          "1.19231",
          "1.18997",
          "1.19074",
          "1.18740",
          "1.18850",
          "1.18935",
          "1.19023",
          "1.19230",
          "1.19393",
          "1.19331",
          "1.19335",
          "1.19232",
          "1.18987",
          "1.18893",
          "1.18636",
          "1.18483",
          "1.18430",
          "1.18464",
          "1.18270",
          "1.18336",
          "1.18238",
          "1.18133",
          "1.18174",
          "1.18206",
          "1.18052",
          "1.17972"
         ],
         "type": "candlestick"
        }
       ],
       "layout": {
        "font": {
         "color": "#E1E1E1",
         "size": 8
        },
        "height": 400,
        "margin": {
         "b": 10,
         "l": 10,
         "r": 10,
         "t": 10
        },
        "paper_bgcolor": "#2C303C",
        "plot_bgcolor": "#2C303C",
        "template": {
         "data": {
          "bar": [
           {
            "error_x": {
             "color": "#2a3f5f"
            },
            "error_y": {
             "color": "#2a3f5f"
            },
            "marker": {
             "line": {
              "color": "#E5ECF6",
              "width": 0.5
             },
             "pattern": {
              "fillmode": "overlay",
              "size": 10,
              "solidity": 0.2
             }
            },
            "type": "bar"
           }
          ],
          "barpolar": [
           {
            "marker": {
             "line": {
              "color": "#E5ECF6",
              "width": 0.5
             },
             "pattern": {
              "fillmode": "overlay",
              "size": 10,
              "solidity": 0.2
             }
            },
            "type": "barpolar"
           }
          ],
          "carpet": [
           {
            "aaxis": {
             "endlinecolor": "#2a3f5f",
             "gridcolor": "white",
             "linecolor": "white",
             "minorgridcolor": "white",
             "startlinecolor": "#2a3f5f"
            },
            "baxis": {
             "endlinecolor": "#2a3f5f",
             "gridcolor": "white",
             "linecolor": "white",
             "minorgridcolor": "white",
             "startlinecolor": "#2a3f5f"
            },
            "type": "carpet"
           }
          ],
          "choropleth": [
           {
            "colorbar": {
             "outlinewidth": 0,
             "ticks": ""
            },
            "type": "choropleth"
           }
          ],
          "contour": [
           {
            "colorbar": {
             "outlinewidth": 0,
             "ticks": ""
            },
            "colorscale": [
             [
              0,
              "#0d0887"
             ],
             [
              0.1111111111111111,
              "#46039f"
             ],
             [
              0.2222222222222222,
              "#7201a8"
             ],
             [
              0.3333333333333333,
              "#9c179e"
             ],
             [
              0.4444444444444444,
              "#bd3786"
             ],
             [
              0.5555555555555556,
              "#d8576b"
             ],
             [
              0.6666666666666666,
              "#ed7953"
             ],
             [
              0.7777777777777778,
              "#fb9f3a"
             ],
             [
              0.8888888888888888,
              "#fdca26"
             ],
             [
              1,
              "#f0f921"
             ]
            ],
            "type": "contour"
           }
          ],
          "contourcarpet": [
           {
            "colorbar": {
             "outlinewidth": 0,
             "ticks": ""
            },
            "type": "contourcarpet"
           }
          ],
          "heatmap": [
           {
            "colorbar": {
             "outlinewidth": 0,
             "ticks": ""
            },
            "colorscale": [
             [
              0,
              "#0d0887"
             ],
             [
              0.1111111111111111,
              "#46039f"
             ],
             [
              0.2222222222222222,
              "#7201a8"
             ],
             [
              0.3333333333333333,
              "#9c179e"
             ],
             [
              0.4444444444444444,
              "#bd3786"
             ],
             [
              0.5555555555555556,
              "#d8576b"
             ],
             [
              0.6666666666666666,
              "#ed7953"
             ],
             [
              0.7777777777777778,
              "#fb9f3a"
             ],
             [
              0.8888888888888888,
              "#fdca26"
             ],
             [
              1,
              "#f0f921"
             ]
            ],
            "type": "heatmap"
           }
          ],
          "heatmapgl": [
           {
            "colorbar": {
             "outlinewidth": 0,
             "ticks": ""
            },
            "colorscale": [
             [
              0,
              "#0d0887"
             ],
             [
              0.1111111111111111,
              "#46039f"
             ],
             [
              0.2222222222222222,
              "#7201a8"
             ],
             [
              0.3333333333333333,
              "#9c179e"
             ],
             [
              0.4444444444444444,
              "#bd3786"
             ],
             [
              0.5555555555555556,
              "#d8576b"
             ],
             [
              0.6666666666666666,
              "#ed7953"
             ],
             [
              0.7777777777777778,
              "#fb9f3a"
             ],
             [
              0.8888888888888888,
              "#fdca26"
             ],
             [
              1,
              "#f0f921"
             ]
            ],
            "type": "heatmapgl"
           }
          ],
          "histogram": [
           {
            "marker": {
             "pattern": {
              "fillmode": "overlay",
              "size": 10,
              "solidity": 0.2
             }
            },
            "type": "histogram"
           }
          ],
          "histogram2d": [
           {
            "colorbar": {
             "outlinewidth": 0,
             "ticks": ""
            },
            "colorscale": [
             [
              0,
              "#0d0887"
             ],
             [
              0.1111111111111111,
              "#46039f"
             ],
             [
              0.2222222222222222,
              "#7201a8"
             ],
             [
              0.3333333333333333,
              "#9c179e"
             ],
             [
              0.4444444444444444,
              "#bd3786"
             ],
             [
              0.5555555555555556,
              "#d8576b"
             ],
             [
              0.6666666666666666,
              "#ed7953"
             ],
             [
              0.7777777777777778,
              "#fb9f3a"
             ],
             [
              0.8888888888888888,
              "#fdca26"
             ],
             [
              1,
              "#f0f921"
             ]
            ],
            "type": "histogram2d"
           }
          ],
          "histogram2dcontour": [
           {
            "colorbar": {
             "outlinewidth": 0,
             "ticks": ""
            },
            "colorscale": [
             [
              0,
              "#0d0887"
             ],
             [
              0.1111111111111111,
              "#46039f"
             ],
             [
              0.2222222222222222,
              "#7201a8"
             ],
             [
              0.3333333333333333,
              "#9c179e"
             ],
             [
              0.4444444444444444,
              "#bd3786"
             ],
             [
              0.5555555555555556,
              "#d8576b"
             ],
             [
              0.6666666666666666,
              "#ed7953"
             ],
             [
              0.7777777777777778,
              "#fb9f3a"
             ],
             [
              0.8888888888888888,
              "#fdca26"
             ],
             [
              1,
              "#f0f921"
             ]
            ],
            "type": "histogram2dcontour"
           }
          ],
          "mesh3d": [
           {
            "colorbar": {
             "outlinewidth": 0,
             "ticks": ""
            },
            "type": "mesh3d"
           }
          ],
          "parcoords": [
           {
            "line": {
             "colorbar": {
              "outlinewidth": 0,
              "ticks": ""
             }
            },
            "type": "parcoords"
           }
          ],
          "pie": [
           {
            "automargin": true,
            "type": "pie"
           }
          ],
          "scatter": [
           {
            "fillpattern": {
             "fillmode": "overlay",
             "size": 10,
             "solidity": 0.2
            },
            "type": "scatter"
           }
          ],
          "scatter3d": [
           {
            "line": {
             "colorbar": {
              "outlinewidth": 0,
              "ticks": ""
             }
            },
            "marker": {
             "colorbar": {
              "outlinewidth": 0,
              "ticks": ""
             }
            },
            "type": "scatter3d"
           }
          ],
          "scattercarpet": [
           {
            "marker": {
             "colorbar": {
              "outlinewidth": 0,
              "ticks": ""
             }
            },
            "type": "scattercarpet"
           }
          ],
          "scattergeo": [
           {
            "marker": {
             "colorbar": {
              "outlinewidth": 0,
              "ticks": ""
             }
            },
            "type": "scattergeo"
           }
          ],
          "scattergl": [
           {
            "marker": {
             "colorbar": {
              "outlinewidth": 0,
              "ticks": ""
             }
            },
            "type": "scattergl"
           }
          ],
          "scattermapbox": [
           {
            "marker": {
             "colorbar": {
              "outlinewidth": 0,
              "ticks": ""
             }
            },
            "type": "scattermapbox"
           }
          ],
          "scatterpolar": [
           {
            "marker": {
             "colorbar": {
              "outlinewidth": 0,
              "ticks": ""
             }
            },
            "type": "scatterpolar"
           }
          ],
          "scatterpolargl": [
           {
            "marker": {
             "colorbar": {
              "outlinewidth": 0,
              "ticks": ""
             }
            },
            "type": "scatterpolargl"
           }
          ],
          "scatterternary": [
           {
            "marker": {
             "colorbar": {
              "outlinewidth": 0,
              "ticks": ""
             }
            },
            "type": "scatterternary"
           }
          ],
          "surface": [
           {
            "colorbar": {
             "outlinewidth": 0,
             "ticks": ""
            },
            "colorscale": [
             [
              0,
              "#0d0887"
             ],
             [
              0.1111111111111111,
              "#46039f"
             ],
             [
              0.2222222222222222,
              "#7201a8"
             ],
             [
              0.3333333333333333,
              "#9c179e"
             ],
             [
              0.4444444444444444,
              "#bd3786"
             ],
             [
              0.5555555555555556,
              "#d8576b"
             ],
             [
              0.6666666666666666,
              "#ed7953"
             ],
             [
              0.7777777777777778,
              "#fb9f3a"
             ],
             [
              0.8888888888888888,
              "#fdca26"
             ],
             [
              1,
              "#f0f921"
             ]
            ],
            "type": "surface"
           }
          ],
          "table": [
           {
            "cells": {
             "fill": {
              "color": "#EBF0F8"
             },
             "line": {
              "color": "white"
             }
            },
            "header": {
             "fill": {
              "color": "#C8D4E3"
             },
             "line": {
              "color": "white"
             }
            },
            "type": "table"
           }
          ]
         },
         "layout": {
          "annotationdefaults": {
           "arrowcolor": "#2a3f5f",
           "arrowhead": 0,
           "arrowwidth": 1
          },
          "autotypenumbers": "strict",
          "coloraxis": {
           "colorbar": {
            "outlinewidth": 0,
            "ticks": ""
           }
          },
          "colorscale": {
           "diverging": [
            [
             0,
             "#8e0152"
            ],
            [
             0.1,
             "#c51b7d"
            ],
            [
             0.2,
             "#de77ae"
            ],
            [
             0.3,
             "#f1b6da"
            ],
            [
             0.4,
             "#fde0ef"
            ],
            [
             0.5,
             "#f7f7f7"
            ],
            [
             0.6,
             "#e6f5d0"
            ],
            [
             0.7,
             "#b8e186"
            ],
            [
             0.8,
             "#7fbc41"
            ],
            [
             0.9,
             "#4d9221"
            ],
            [
             1,
             "#276419"
            ]
           ],
           "sequential": [
            [
             0,
             "#0d0887"
            ],
            [
             0.1111111111111111,
             "#46039f"
            ],
            [
             0.2222222222222222,
             "#7201a8"
            ],
            [
             0.3333333333333333,
             "#9c179e"
            ],
            [
             0.4444444444444444,
             "#bd3786"
            ],
            [
             0.5555555555555556,
             "#d8576b"
            ],
            [
             0.6666666666666666,
             "#ed7953"
            ],
            [
             0.7777777777777778,
             "#fb9f3a"
            ],
            [
             0.8888888888888888,
             "#fdca26"
            ],
            [
             1,
             "#f0f921"
            ]
           ],
           "sequentialminus": [
            [
             0,
             "#0d0887"
            ],
            [
             0.1111111111111111,
             "#46039f"
            ],
            [
             0.2222222222222222,
             "#7201a8"
            ],
            [
             0.3333333333333333,
             "#9c179e"
            ],
            [
             0.4444444444444444,
             "#bd3786"
            ],
            [
             0.5555555555555556,
             "#d8576b"
            ],
            [
             0.6666666666666666,
             "#ed7953"
            ],
            [
             0.7777777777777778,
             "#fb9f3a"
            ],
            [
             0.8888888888888888,
             "#fdca26"
            ],
            [
             1,
             "#f0f921"
            ]
           ]
          },
          "colorway": [
           "#636efa",
           "#EF553B",
           "#00cc96",
           "#ab63fa",
           "#FFA15A",
           "#19d3f3",
           "#FF6692",
           "#B6E880",
           "#FF97FF",
           "#FECB52"
          ],
          "font": {
           "color": "#2a3f5f"
          },
          "geo": {
           "bgcolor": "white",
           "lakecolor": "white",
           "landcolor": "#E5ECF6",
           "showlakes": true,
           "showland": true,
           "subunitcolor": "white"
          },
          "hoverlabel": {
           "align": "left"
          },
          "hovermode": "closest",
          "mapbox": {
           "style": "light"
          },
          "paper_bgcolor": "white",
          "plot_bgcolor": "#E5ECF6",
          "polar": {
           "angularaxis": {
            "gridcolor": "white",
            "linecolor": "white",
            "ticks": ""
           },
           "bgcolor": "#E5ECF6",
           "radialaxis": {
            "gridcolor": "white",
            "linecolor": "white",
            "ticks": ""
           }
          },
          "scene": {
           "xaxis": {
            "backgroundcolor": "#E5ECF6",
            "gridcolor": "white",
            "gridwidth": 2,
            "linecolor": "white",
            "showbackground": true,
            "ticks": "",
            "zerolinecolor": "white"
           },
           "yaxis": {
            "backgroundcolor": "#E5ECF6",
            "gridcolor": "white",
            "gridwidth": 2,
            "linecolor": "white",
            "showbackground": true,
            "ticks": "",
            "zerolinecolor": "white"
           },
           "zaxis": {
            "backgroundcolor": "#E5ECF6",
            "gridcolor": "white",
            "gridwidth": 2,
            "linecolor": "white",
            "showbackground": true,
            "ticks": "",
            "zerolinecolor": "white"
           }
          },
          "shapedefaults": {
           "line": {
            "color": "#2a3f5f"
           }
          },
          "ternary": {
           "aaxis": {
            "gridcolor": "white",
            "linecolor": "white",
            "ticks": ""
           },
           "baxis": {
            "gridcolor": "white",
            "linecolor": "white",
            "ticks": ""
           },
           "bgcolor": "#E5ECF6",
           "caxis": {
            "gridcolor": "white",
            "linecolor": "white",
            "ticks": ""
           }
          },
          "title": {
           "x": 0.05
          },
          "xaxis": {
           "automargin": true,
           "gridcolor": "white",
           "linecolor": "white",
           "ticks": "",
           "title": {
            "standoff": 15
           },
           "zerolinecolor": "white",
           "zerolinewidth": 2
          },
          "yaxis": {
           "automargin": true,
           "gridcolor": "white",
           "linecolor": "white",
           "ticks": "",
           "title": {
            "standoff": 15
           },
           "zerolinecolor": "white",
           "zerolinewidth": 2
          }
         }
        },
        "width": 900,
        "xaxis": {
         "gridcolor": "#1F292F",
         "nticks": 5,
         "rangeslider": {
          "visible": false
         }
        },
        "yaxis": {
         "gridcolor": "#1F292F"
        }
       }
      }
     },
     "metadata": {},
     "output_type": "display_data"
    }
   ],
   "source": [
    "cp = CandlePlot(df_plot)\n",
    "cp.show_plot()"
   ]
  },
  {
   "cell_type": "code",
   "execution_count": null,
   "metadata": {},
   "outputs": [],
   "source": []
  }
 ],
 "metadata": {
  "kernelspec": {
   "display_name": "venv",
   "language": "python",
   "name": "python3"
  },
  "language_info": {
   "codemirror_mode": {
    "name": "ipython",
    "version": 3
   },
   "file_extension": ".py",
   "mimetype": "text/x-python",
   "name": "python",
   "nbconvert_exporter": "python",
   "pygments_lexer": "ipython3",
   "version": "3.10.4"
  },
  "orig_nbformat": 4
 },
 "nbformat": 4,
 "nbformat_minor": 2
}
